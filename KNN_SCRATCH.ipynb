{
  "nbformat": 4,
  "nbformat_minor": 0,
  "metadata": {
    "colab": {
      "name": "KNN-SCRATCH.ipynb",
      "provenance": [],
      "authorship_tag": "ABX9TyNJcoZ2EOns36Ts1gO6kiHo",
      "include_colab_link": true
    },
    "kernelspec": {
      "name": "python3",
      "display_name": "Python 3"
    }
  },
  "cells": [
    {
      "cell_type": "markdown",
      "metadata": {
        "id": "view-in-github",
        "colab_type": "text"
      },
      "source": [
        "<a href=\"https://colab.research.google.com/github/HariKrishnan06082k/Machine-Learning/blob/main/KNN_SCRATCH.ipynb\" target=\"_parent\"><img src=\"https://colab.research.google.com/assets/colab-badge.svg\" alt=\"Open In Colab\"/></a>"
      ]
    },
    {
      "cell_type": "code",
      "metadata": {
        "id": "wU614VBe7JyC"
      },
      "source": [
        "# Implement KNN from scratch\r\n",
        "# Importing necessary libraries\r\n",
        "import numpy as np\r\n",
        "import pandas as pd\r\n",
        "import matplotlib.pyplot as plt\r\n",
        "from sklearn import datasets\r\n",
        "from collections import Counter\r\n"
      ],
      "execution_count": 37,
      "outputs": []
    },
    {
      "cell_type": "code",
      "metadata": {
        "id": "4_EofGBp8PPL"
      },
      "source": [
        "iris = datasets.load_iris()\r\n",
        "X,y = iris.data , iris.target"
      ],
      "execution_count": 38,
      "outputs": []
    },
    {
      "cell_type": "code",
      "metadata": {
        "colab": {
          "base_uri": "https://localhost:8080/"
        },
        "id": "y8ylvECR8Wxr",
        "outputId": "79b6c379-31e1-470f-cad5-e5e0b3973263"
      },
      "source": [
        "print(X.shape,y.shape)"
      ],
      "execution_count": 39,
      "outputs": [
        {
          "output_type": "stream",
          "text": [
            "(150, 4) (150,)\n"
          ],
          "name": "stdout"
        }
      ]
    },
    {
      "cell_type": "code",
      "metadata": {
        "id": "PX2Bmyz68c_8"
      },
      "source": [
        "from sklearn.model_selection import train_test_split\r\n",
        "X_train,X_test,y_train,y_test = train_test_split(X,y,test_size = 0.2 , random_state = 62)"
      ],
      "execution_count": 41,
      "outputs": []
    },
    {
      "cell_type": "code",
      "metadata": {
        "colab": {
          "base_uri": "https://localhost:8080/"
        },
        "id": "p4fjdLTe8tey",
        "outputId": "738bef2e-e3f4-4c86-bbef-ae85804d2da8"
      },
      "source": [
        "print(X_train.shape,y_train.shape)"
      ],
      "execution_count": 42,
      "outputs": [
        {
          "output_type": "stream",
          "text": [
            "(120, 4) (120,)\n"
          ],
          "name": "stdout"
        }
      ]
    },
    {
      "cell_type": "code",
      "metadata": {
        "colab": {
          "base_uri": "https://localhost:8080/"
        },
        "id": "-MN__RXc8zZY",
        "outputId": "20b0394a-2de6-4b92-e212-2957d49184a6"
      },
      "source": [
        "print(X_test.shape,y_test.shape)"
      ],
      "execution_count": 43,
      "outputs": [
        {
          "output_type": "stream",
          "text": [
            "(30, 4) (30,)\n"
          ],
          "name": "stdout"
        }
      ]
    },
    {
      "cell_type": "code",
      "metadata": {
        "id": "Lu4mjf-79zxC"
      },
      "source": [
        "# In 2-d your euclidean distance is defined as ((x2-x1)^2 + (y2-y1)^2)^0.5\r\n",
        "# In a more generalised case its gonna look like (summation(i=1 to i=n) ((q(i) - p(i))**2)**0.5"
      ],
      "execution_count": 10,
      "outputs": []
    },
    {
      "cell_type": "code",
      "metadata": {
        "id": "HAF7eIVv-Y57"
      },
      "source": [
        "def euclidean_distance(x1,x2):\r\n",
        "  return np.sqrt(np.sum((x1-x2)**2))"
      ],
      "execution_count": 44,
      "outputs": []
    },
    {
      "cell_type": "code",
      "metadata": {
        "id": "TSvsDus976G8"
      },
      "source": [
        "class KNN:\r\n",
        "\r\n",
        "  def __init__(self,k=3):\r\n",
        "    self.k = k\r\n",
        "\r\n",
        "  def fit(self,X,y):\r\n",
        "    self.X_train = X\r\n",
        "    self.y_train = y\r\n",
        "\r\n",
        "  def predict(self,X):\r\n",
        "    predicted_labels = [self._predict(x) for x in X]\r\n",
        "    return np.array(predicted_labels)\r\n",
        "  \r\n",
        "  def _predict(self,x):\r\n",
        "    # we need to compute the distances from our test point to every other point and store that in a list\r\n",
        "    distances = [euclidean_distance(x,x_train) for x_train in self.X_train]\r\n",
        "\r\n",
        "    # we need to sort the distances list so as to get the k labels\r\n",
        "    sorted_indices = np.argsort(distances)[ : self.k]\r\n",
        "\r\n",
        "    # we need to get the labels\r\n",
        "    \r\n",
        "    k_nearest_labels = [self.y_train[i] for i in sorted_indices]\r\n",
        "\r\n",
        "    # you now have your labels all you have to do is to get the majority vote right now\r\n",
        "\r\n",
        "    predictions = Counter(k_nearest_labels).most_common(1)\r\n",
        "\r\n",
        "    return predictions[0][0]"
      ],
      "execution_count": 45,
      "outputs": []
    },
    {
      "cell_type": "code",
      "metadata": {
        "id": "m9G2zr9X_9gy"
      },
      "source": [
        "clf = KNN(k=5)\r\n",
        "clf.fit(X_train,y_train)\r\n",
        "my_predictions = clf.predict(X_test)\r\n"
      ],
      "execution_count": 46,
      "outputs": []
    },
    {
      "cell_type": "code",
      "metadata": {
        "id": "3nA69ndLBxdP"
      },
      "source": [
        "accuracy = np.sum(my_predictions == y_test)/len(y_test)"
      ],
      "execution_count": 47,
      "outputs": []
    },
    {
      "cell_type": "code",
      "metadata": {
        "colab": {
          "base_uri": "https://localhost:8080/"
        },
        "id": "4TAUX8UmB4V1",
        "outputId": "f1da2f59-f6ad-4719-d2bd-e2cba8230772"
      },
      "source": [
        "d = {'Model_predictions':my_predictions,'Actual Labels':y_test}\r\n",
        "result = pd.DataFrame(data = d)\r\n",
        "print(result)"
      ],
      "execution_count": 49,
      "outputs": [
        {
          "output_type": "stream",
          "text": [
            "    Model_predictions  Actual Labels\n",
            "0                   2              2\n",
            "1                   2              2\n",
            "2                   0              0\n",
            "3                   0              0\n",
            "4                   2              2\n",
            "5                   2              1\n",
            "6                   2              2\n",
            "7                   0              0\n",
            "8                   1              1\n",
            "9                   1              1\n",
            "10                  2              2\n",
            "11                  1              2\n",
            "12                  0              0\n",
            "13                  1              1\n",
            "14                  1              1\n",
            "15                  1              1\n",
            "16                  0              0\n",
            "17                  1              1\n",
            "18                  0              0\n",
            "19                  0              0\n",
            "20                  0              0\n",
            "21                  0              0\n",
            "22                  2              2\n",
            "23                  1              1\n",
            "24                  2              2\n",
            "25                  0              0\n",
            "26                  2              2\n",
            "27                  0              0\n",
            "28                  2              2\n",
            "29                  0              0\n"
          ],
          "name": "stdout"
        }
      ]
    }
  ]
}